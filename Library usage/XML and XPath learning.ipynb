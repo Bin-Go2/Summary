{
 "cells": [
  {
   "cell_type": "markdown",
   "metadata": {},
   "source": [
    "## What is XML and why do we care? \n",
    "\n",
    "    XML: eXtensible Markup Language\n",
    "    XML 1.0 – a recommendation from W3C, 2008\n",
    "    Root: SGML (standard generalized markup language)\n",
    "    Derived from IBM’s GML (generalized ML) developed in 1960’s\n",
    "    Basis for HTML & XML:\n",
    "    - XML is roughly an augmented subset (adds more restrictions)\n",
    "    - HTML is an application of SGML\n",
    "    \n",
    "    why do we use XML?\n",
    "    - XML is a syntax (serialization format) for data, we use XML to do data sharing and exchange on the Web.\n",
    "\n",
    "    HTML describes the data presentation but XML describes the data content."
   ]
  },
  {
   "attachments": {},
   "cell_type": "markdown",
   "metadata": {},
   "source": [
    "## Data models\n",
    "\n",
    "    - tag book,title..,  \n",
    "        start tag <book>, end tag </book>\n",
    "        XML is well formed if it has matching tags\n",
    "    - element <book>..</book>   \n",
    "        empty element <book></book> ==  <book/>  \n",
    "        element may be nested\n",
    "        element names are case sensitive\n",
    "    - arrtibute <book currency='USD'>\n",
    "        alternative ways to present data\n",
    "        quoted \"\" or ''\n",
    "        \n",
    "    XML Structure: an ordered tree\n",
    "    picture uploaded...\n",
    "\n",
    "    \n",
    "### everything in an XML document is node !\n",
    "    - element node\n",
    "    - attribute node\n",
    "    - text node\n",
    "    \n",
    "    "
   ]
  },
  {
   "cell_type": "markdown",
   "metadata": {},
   "source": [
    "## Query language: XPath"
   ]
  },
  {
   "cell_type": "code",
   "execution_count": 110,
   "metadata": {
    "scrolled": false
   },
   "outputs": [
    {
     "name": "stdout",
     "output_type": "stream",
     "text": [
      "<bib>\n",
      "    <cd> abc </cd>\n",
      "    <book>\n",
      "        <publisher>Addison-Wesley</publisher>\n",
      "        <author>Serge Abiteboul</author>\n",
      "        <author>\n",
      "            <first-name>Rick</first-name>\n",
      "            <last-name>Hull</last-name>\n",
      "        </author>\n",
      "        <author age=\"20\">Victor Vianu</author>\n",
      "        <title>Foundations of Database</title>\n",
      "        <year>1995</year>\n",
      "        <price>38.8</price>\n",
      "    </book>\n",
      "    <book price=\"55\">\n",
      "        <publisher>Freeman</publisher>\n",
      "        <author>Jeffrey D. Ullman</author>\n",
      "        <title>Principles of Database and Knowledge Base Systems</title>\n",
      "        <year>1998</year>\n",
      "    </book>\n",
      "    <book>\n",
      "        <title>xyz</title>\n",
      "        <author/>\n",
      "    </book>\n",
      "</bib>\n"
     ]
    }
   ],
   "source": [
    "from lxml import etree # import the xml library\n",
    "\n",
    "'''\n",
    "if read html file\n",
    "from lxml import html\n",
    "myfile = open('Express.html') \n",
    "htree = html.parse(myfile)  \n",
    "'''\n",
    "tree = etree.parse('xpath.xml') # load the file and parse it to the ordered tree\n",
    "content =  etree.tostring(tree)  # print the document\n",
    "content = bytes.decode(content)\n",
    "print(content) "
   ]
  },
  {
   "cell_type": "code",
   "execution_count": 142,
   "metadata": {},
   "outputs": [],
   "source": [
    "def printf(elems):\n",
    "    for elem in elems:\n",
    "        if isinstance(elem,str):\n",
    "            print(elem)\n",
    "#             formal_print = bytes.decode(elem)\n",
    "#             print(formal_print)\n",
    "                \n",
    "        else:\n",
    "            print(etree.tostring(elem))\n",
    "#             formal_print = bytes.decode(etree.tostring(elem))\n",
    "#             print(formal_print)\n",
    "            \n",
    "            \n",
    "# quering rules\n",
    "# //: finding descendants"
   ]
  },
  {
   "cell_type": "code",
   "execution_count": 126,
   "metadata": {},
   "outputs": [
    {
     "name": "stdout",
     "output_type": "stream",
     "text": [
      "<author>Serge Abiteboul</author>\n",
      "        \n",
      "<author>\n",
      "            <first-name>Rick</first-name>\n",
      "            <last-name>Hull</last-name>\n",
      "        </author>\n",
      "        \n",
      "<author age=\"20\">Victor Vianu</author>\n",
      "        \n",
      "<author>Jeffrey D. Ullman</author>\n",
      "        \n",
      "<author/>\n",
      "    \n"
     ]
    }
   ],
   "source": [
    "printf(tree.xpath('//author'))"
   ]
  },
  {
   "cell_type": "code",
   "execution_count": 131,
   "metadata": {},
   "outputs": [
    {
     "name": "stdout",
     "output_type": "stream",
     "text": [
      "<first-name>Rick</first-name>\n",
      "            \n"
     ]
    }
   ],
   "source": [
    "# /: finding child\n",
    "printf(tree.xpath('/bib/first-name')) # no\n",
    "printf(tree.xpath('/bib//first-name')) "
   ]
  },
  {
   "cell_type": "code",
   "execution_count": 135,
   "metadata": {},
   "outputs": [
    {
     "name": "stdout",
     "output_type": "stream",
     "text": [
      "<author>Jeffrey D. Ullman</author>\n",
      "        \n"
     ]
    }
   ],
   "source": [
    "## index of children starts from 1\n",
    "printf(tree.xpath('/bib/book[2]/author')) # no"
   ]
  },
  {
   "cell_type": "code",
   "execution_count": 143,
   "metadata": {},
   "outputs": [
    {
     "name": "stdout",
     "output_type": "stream",
     "text": [
      "Serge Abiteboul\n",
      "\n",
      "            \n",
      "\n",
      "            \n",
      "\n",
      "        \n",
      "Victor Vianu\n",
      "Jeffrey D. Ullman\n"
     ]
    }
   ],
   "source": [
    "## text(): only match text node \n",
    "printf(tree.xpath(\"/bib/book/author/text()\"))"
   ]
  },
  {
   "cell_type": "code",
   "execution_count": 146,
   "metadata": {},
   "outputs": [
    {
     "name": "stdout",
     "output_type": "stream",
     "text": [
      "b'<first-name>Rick</first-name>\\n            '\n",
      "b'<last-name>Hull</last-name>\\n        '\n",
      "Serge Abiteboul\n",
      "\n",
      "            \n",
      "b'<first-name>Rick</first-name>\\n            '\n",
      "\n",
      "            \n",
      "b'<last-name>Hull</last-name>\\n        '\n",
      "\n",
      "        \n",
      "Victor Vianu\n",
      "Jeffrey D. Ullman\n"
     ]
    }
   ],
   "source": [
    "## * : only match element node\n",
    "printf(tree.xpath(\"//author/*\"))\n",
    "#  node() : matches any node (element or text)\n",
    "\n",
    "printf(tree.xpath(\"//author/node()\"))"
   ]
  },
  {
   "cell_type": "code",
   "execution_count": 153,
   "metadata": {},
   "outputs": [
    {
     "name": "stdout",
     "output_type": "stream",
     "text": [
      "55\n",
      "55\n"
     ]
    }
   ],
   "source": [
    "# @: attribute Nodes\n",
    "printf(tree.xpath(\"/bib/book/@price\"))\n",
    "printf(tree.xpath(\"/bib/book/@*\")) "
   ]
  },
  {
   "cell_type": "code",
   "execution_count": 154,
   "metadata": {},
   "outputs": [
    {
     "name": "stdout",
     "output_type": "stream",
     "text": [
      "b'<author>\\n            <first-name>Rick</first-name>\\n            <last-name>Hull</last-name>\\n        </author>\\n        '\n"
     ]
    }
   ],
   "source": [
    "# Xpath: Predicates\n",
    "\n",
    "# /bib/book/author[first-name]  \n",
    "# Return author elements (under /bib/book) which have a child element called \"first-name\"\n",
    "printf(tree.xpath(\"/bib/book/author[first-name]\"))"
   ]
  },
  {
   "cell_type": "code",
   "execution_count": 160,
   "metadata": {},
   "outputs": [
    {
     "name": "stdout",
     "output_type": "stream",
     "text": [
      "20\n",
      "55\n"
     ]
    }
   ],
   "source": [
    "# /bib/book/author[firstname][address[//zip][city]]/lastname\n",
    "# Return lastname of author elements which have child\n",
    "# element firstname and child element \"address\" which itself has ...\n",
    "\n",
    "\n",
    "# /bib/book[author/text()]  Return books under bib that have an author element with a text node\n",
    "\n",
    "\n",
    "# bib/book[contains(author, 'Ullman')]\n",
    "# Return books under bib whose author subelment contains the word 'Ullman' in its text node \n",
    "# (note contains is case-sensitive)\n",
    "\n",
    "\n",
    "# and, or, not\n",
    "# /bib/book[price > 30 or year > 1995]\n",
    "\n",
    "printf(tree.xpath('//@*'))"
   ]
  },
  {
   "cell_type": "markdown",
   "metadata": {},
   "source": [
    "https://codebeautify.org/Xpath-Tester A great website to test XML expression"
   ]
  },
  {
   "cell_type": "code",
   "execution_count": null,
   "metadata": {},
   "outputs": [],
   "source": []
  }
 ],
 "metadata": {
  "kernelspec": {
   "display_name": "Python 3",
   "language": "python",
   "name": "python3"
  },
  "language_info": {
   "codemirror_mode": {
    "name": "ipython",
    "version": 3
   },
   "file_extension": ".py",
   "mimetype": "text/x-python",
   "name": "python",
   "nbconvert_exporter": "python",
   "pygments_lexer": "ipython3",
   "version": "3.7.3"
  }
 },
 "nbformat": 4,
 "nbformat_minor": 2
}
